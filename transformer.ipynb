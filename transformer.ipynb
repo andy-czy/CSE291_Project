{
 "cells": [
  {
   "cell_type": "code",
   "execution_count": 1,
   "metadata": {},
   "outputs": [],
   "source": [
    "%load_ext autoreload\n",
    "%autoreload 2"
   ]
  },
  {
   "cell_type": "code",
   "execution_count": 2,
   "metadata": {},
   "outputs": [],
   "source": [
    "import torch\n",
    "from torch import nn\n",
    "import torch.nn.functional as F\n",
    "from torch.utils.data import Dataset, DataLoader\n",
    "from sentiment_data import read_sentiment_examples, read_word_embeddings\n",
    "from utils import *\n",
    "from transformer import EncoderModel\n",
    "import json\n",
    "import nltk\n",
    "import random\n",
    "from tqdm import tqdm\n",
    "import os\n",
    "\n",
    "from torch.nn.utils.rnn import pad_sequence"
   ]
  },
  {
   "cell_type": "code",
   "execution_count": 17,
   "metadata": {},
   "outputs": [],
   "source": [
    "seed = 42\n",
    "\n",
    "device = torch.device(\"cuda\" if torch.cuda.is_available() else \"cpu\")\n",
    "\n",
    "batch_size = 16 \n",
    "block_size = 32\n",
    "learning_rate = 0.005 \n",
    "n_embd =64  \n",
    "n_head = 2\n",
    "n_layer = 4\n",
    "\n",
    "\n",
    "eval_interval = 100\n",
    "max_iters = 500 \n",
    "eval_iters = 200 \n",
    "\n",
    "n_input = 64  \n",
    "n_hidden = 50  \n",
    "n_output = 3  \n",
    "epochs_CLS = 50 "
   ]
  },
  {
   "cell_type": "code",
   "execution_count": 4,
   "metadata": {},
   "outputs": [],
   "source": [
    "def collate_batch(batch):\n",
    "    \"\"\" Collate a batch of data into a single tensor with padding.\"\"\"\n",
    "    data, labels = zip(*batch) \n",
    "    padded_sequences = pad_sequence(data, batch_first=True, padding_value=0)\n",
    "    padded_sequences = padded_sequences[:, :block_size] \n",
    "    padded_sequences = torch.nn.functional.pad(padded_sequences, (0, max(0, block_size - padded_sequences.shape[1])), \"constant\", 0)\n",
    "    labels = torch.stack(labels)  \n",
    "    return padded_sequences, labels"
   ]
  },
  {
   "cell_type": "code",
   "execution_count": 5,
   "metadata": {},
   "outputs": [
    {
     "name": "stdout",
     "output_type": "stream",
     "text": [
      "12687\n",
      "12687\n"
     ]
    }
   ],
   "source": [
    "with open('dev.json') as fp:\n",
    "    stereoSet = json.load(fp)[\"data\"]\n",
    "\n",
    "all_example = []\n",
    "all_label = []\n",
    "\n",
    "\n",
    "inter_set = stereoSet[\"intersentence\"]\n",
    "for set_exmaple in inter_set:\n",
    "    context = set_exmaple[\"context\"]\n",
    "    sentences = set_exmaple[\"sentences\"]\n",
    "    for sen in sentences:\n",
    "        all_example.append(context + \" \" + sen[\"sentence\"])\n",
    "        if sen[\"gold_label\"] == \"unrelated\":\n",
    "            all_label.append(0)\n",
    "        if sen[\"gold_label\"] == \"stereotype\":\n",
    "            all_label.append(1)\n",
    "        if sen[\"gold_label\"] == \"anti-stereotype\":\n",
    "            all_label.append(2)\n",
    "\n",
    "\n",
    "intra_set = stereoSet[\"intrasentence\"]\n",
    "\n",
    "for set_exmaple in intra_set:\n",
    "    context = set_exmaple[\"context\"]\n",
    "    sentences = set_exmaple[\"sentences\"]\n",
    "    for sen in sentences:\n",
    "        all_example.append(context + \" \" + sen[\"sentence\"])\n",
    "        if sen[\"gold_label\"] == \"unrelated\":\n",
    "            all_label.append(0)\n",
    "        if sen[\"gold_label\"] == \"stereotype\":\n",
    "            all_label.append(1)\n",
    "        if sen[\"gold_label\"] == \"anti-stereotype\":\n",
    "            all_label.append(2)\n",
    "\n",
    "\n",
    "print(len(all_example))\n",
    "print(len(all_label))"
   ]
  },
  {
   "cell_type": "code",
   "execution_count": 6,
   "metadata": {},
   "outputs": [
    {
     "name": "stdout",
     "output_type": "stream",
     "text": [
      "['Our', 'new', 'boss', 'is', 'Russian', '.', 'He', 'has', 'a', 'terrible', 'temper', 'and', 'drinks', 'vodka', 'on', 'the', 'job', '.']\n"
     ]
    }
   ],
   "source": [
    "import nltk\n",
    "\n",
    "sentence = \"Our new boss is Russian. He has a terrible temper and drinks vodka on the job.\"\n",
    "words = nltk.word_tokenize(sentence)\n",
    "print(words)"
   ]
  },
  {
   "cell_type": "code",
   "execution_count": 7,
   "metadata": {},
   "outputs": [],
   "source": [
    "class StereoSet(Dataset):\n",
    "    def __init__(self, sentences, labels, indexer):\n",
    "\n",
    "        self.sentences = sentences\n",
    "        self.labels = labels\n",
    "        self.indexer = indexer\n",
    "        \n",
    "        self.indices = []\n",
    "        for sent in self.sentences:\n",
    "            sent_indices = []\n",
    "            word_sent = nltk.word_tokenize(sent)\n",
    "            for word in word_sent:\n",
    "                if self.indexer.index_of(word) != -1:\n",
    "                    sent_indices.append(self.indexer.index_of(word))\n",
    "                else:\n",
    "                    sent_indices.append(self.indexer.index_of(\"UNK\"))\n",
    "            if len(sent_indices) < 64:\n",
    "                for i in range(len(sent_indices), 64):\n",
    "                    sent_indices.append(self.indexer.index_of(\"PAD\"))\n",
    "            else:\n",
    "                sent_indices = sent_indices[:64]\n",
    "            self.indices.append(sent_indices)\n",
    "\n",
    "        self.indices = torch.tensor(self.indices, dtype=torch.long)\n",
    "        self.labels = torch.tensor(self.labels, dtype=torch.long)       \n",
    "\n",
    "    def __len__(self):\n",
    "        return len(self.sentences)\n",
    "\n",
    "    def __getitem__(self, idx):\n",
    "        return self.indices[idx], self.labels[idx]"
   ]
  },
  {
   "cell_type": "code",
   "execution_count": 8,
   "metadata": {},
   "outputs": [],
   "source": [
    "indices = list(range(len(all_example)))\n",
    "random.shuffle(indices)\n",
    "\n",
    "train_split = int(len(indices) * 0.7)\n",
    "val_split = int(len(indices) * 0.15)\n",
    "\n",
    "train_idx = indices[:train_split]\n",
    "val_idx = indices[train_split : train_split+val_split]\n",
    "test_idx = indices[train_split+val_split : ]\n",
    "\n",
    "\n",
    "train_sentences = [all_example[i] for i in train_idx]\n",
    "train_labels = [all_label[i] for i in train_idx]\n",
    "val_sentences = [all_example[i] for i in val_idx]\n",
    "val_labels = [all_label[i] for i in val_idx]\n",
    "test_sentences = [all_example[i] for i in test_idx]\n",
    "test_labels = [all_label[i] for i in test_idx]"
   ]
  },
  {
   "cell_type": "code",
   "execution_count": 9,
   "metadata": {},
   "outputs": [
    {
     "name": "stdout",
     "output_type": "stream",
     "text": [
      "My sister is a brat. She wants everything, and gets everything.\n",
      "1\n"
     ]
    }
   ],
   "source": [
    "print(train_sentences[117])\n",
    "print(train_labels[117])"
   ]
  },
  {
   "cell_type": "code",
   "execution_count": 12,
   "metadata": {},
   "outputs": [
    {
     "name": "stdout",
     "output_type": "stream",
     "text": [
      "21941\n"
     ]
    }
   ],
   "source": [
    "word_indexer = Indexer()\n",
    "word_indexer.add_and_get_index(\"PAD\")\n",
    "word_indexer.add_and_get_index(\"UNK\")\n",
    "\n",
    "for sentence in train_sentences:\n",
    "    word_sentence = nltk.word_tokenize(sentence)\n",
    "    for word in word_sentence:\n",
    "        word_indexer.add_and_get_index(word)\n",
    "\n",
    "f = open(\"glove.6B.300d-relativized.txt\")\n",
    "for line in f:\n",
    "    if line.strip() != \"\":\n",
    "        space_idx = line.find(' ')\n",
    "        word = line[:space_idx]\n",
    "        word_indexer.add_and_get_index(word)\n",
    "f.close()\n",
    "\n",
    "vocab_size = len(word_indexer)\n",
    "print(vocab_size)"
   ]
  },
  {
   "cell_type": "code",
   "execution_count": 11,
   "metadata": {},
   "outputs": [],
   "source": [
    "train_dataset = StereoSet(train_sentences, train_labels, word_indexer)\n",
    "val_dataset = StereoSet(val_sentences, val_labels, word_indexer)\n",
    "test_dataset = StereoSet(test_sentences, test_labels, word_indexer)\n",
    "\n",
    "train_loader = DataLoader(train_dataset, batch_size=batch_size, collate_fn=collate_batch, shuffle=True)\n",
    "val_loader = DataLoader(val_dataset, batch_size=batch_size, collate_fn=collate_batch, shuffle=False)\n",
    "test_loader = DataLoader(test_dataset, batch_size=batch_size, collate_fn=collate_batch, shuffle=False)"
   ]
  },
  {
   "cell_type": "code",
   "execution_count": 12,
   "metadata": {},
   "outputs": [
    {
     "data": {
      "text/plain": [
       "CrossEntropyLoss()"
      ]
     },
     "execution_count": 12,
     "metadata": {},
     "output_type": "execute_result"
    }
   ],
   "source": [
    "encoder = EncoderModel(vocab_size, n_embd, block_size, n_head, n_layer, n_hidden, n_output, device)\n",
    "loss_fn = nn.CrossEntropyLoss()\n",
    "optimizer = torch.optim.Adam(encoder.parameters(), lr=learning_rate)\n",
    "\n",
    "encoder.to(device)\n",
    "loss_fn.to(device)"
   ]
  },
  {
   "cell_type": "code",
   "execution_count": null,
   "metadata": {},
   "outputs": [],
   "source": [
    "for epoch in range(epochs_CLS):\n",
    "    size = len(train_loader.dataset)\n",
    "    num_batches = len(train_loader)\n",
    "    train_loss, correct = 0, 0\n",
    "\n",
    "    encoder.train()\n",
    "    for xb, yb in train_loader:\n",
    "        xb, yb = xb.to(device), yb.to(device)\n",
    "\n",
    "        pred = encoder(xb)\n",
    "        # print(pred.argmax(dim=1), yb)\n",
    "        loss = loss_fn(pred, yb)\n",
    "        train_loss += loss.item()\n",
    "        correct += (pred.argmax(dim=1) == yb).type(torch.float).sum().item()\n",
    "\n",
    "        optimizer.zero_grad()\n",
    "        loss.backward()\n",
    "        optimizer.step()\n",
    "\n",
    "    average_train_loss = train_loss / num_batches\n",
    "    accuracy = correct / size\n",
    "\n",
    "    with torch.no_grad():\n",
    "        size = len(val_loader.dataset)\n",
    "        num_batches = len(val_loader)\n",
    "        encoder.eval()\n",
    "        eval_loss, test_correct = 0, 0\n",
    "        for xt, yt in val_loader:\n",
    "            xt, yt = xt.to(device), yt.to(device)\n",
    "            pred = encoder(xt)\n",
    "            loss = loss_fn(pred, yt)\n",
    "            eval_loss += loss.item()\n",
    "            test_correct += (pred.argmax(dim=1) == yt).type(torch.float).sum().item()\n",
    "        \n",
    "        average_eval_loss = eval_loss / num_batches\n",
    "        test_accuracy = test_correct / size\n",
    "\n",
    "    if epoch == 0 or (epoch + 1) % 5 == 0: \n",
    "        print(f'Epoch #{epoch + 1}: train loss {average_train_loss:.3f}, train accuracy {accuracy:.3f}, val loss {average_eval_loss:.3f}, val accuracy {test_accuracy:.3f}')"
   ]
  },
  {
   "cell_type": "code",
   "execution_count": null,
   "metadata": {},
   "outputs": [],
   "source": [
    "with torch.no_grad():\n",
    "    size = len(test_loader.dataset)\n",
    "    num_batches = len(test_loader)\n",
    "    encoder.eval()\n",
    "    eval_loss, test_correct = 0, 0\n",
    "    for xt, yt in test_loader:\n",
    "        xt, yt = xt.to(device), yt.to(device)\n",
    "        pred = encoder(xt)\n",
    "        loss = loss_fn(pred, yt)\n",
    "        eval_loss += loss.item()\n",
    "        test_correct += (pred.argmax(dim=1) == yt).type(torch.float).sum().item()\n",
    "    \n",
    "    test_accuracy = test_correct / size\n",
    "    print(f'test accuracy {test_accuracy:.3f}')"
   ]
  },
  {
   "cell_type": "code",
   "execution_count": 5,
   "metadata": {},
   "outputs": [],
   "source": [
    "annotations_path = []\n",
    "dir = './BASIL/annotations/'\n",
    "for folder in os.listdir(dir):\n",
    "    folder_path = os.path.join(dir, folder)\n",
    "    for filename in os.listdir(folder_path):\n",
    "      annotations_path.append(os.path.join(folder_path, filename))\n",
    "\n",
    "\n",
    "articles_path = []\n",
    "dir = './BASIL/articles/'\n",
    "for folder in os.listdir(dir):\n",
    "    folder_path = os.path.join(dir, folder)\n",
    "    for filename in os.listdir(folder_path):\n",
    "      articles_path.append(os.path.join(folder_path, filename))"
   ]
  },
  {
   "cell_type": "code",
   "execution_count": 6,
   "metadata": {},
   "outputs": [
    {
     "name": "stdout",
     "output_type": "stream",
     "text": [
      "['./BASIL/annotations/2010\\\\2b95d2cf-e979-4f9c-ae27-9a5370934f23_1_ann.json', './BASIL/annotations/2010\\\\2b95d2cf-e979-4f9c-ae27-9a5370934f23_2_ann.json', './BASIL/annotations/2010\\\\2b95d2cf-e979-4f9c-ae27-9a5370934f23_3_ann.json', './BASIL/annotations/2010\\\\38f7cbb7-5d6a-4c89-bcbd-8e164144172a_1_ann.json', './BASIL/annotations/2010\\\\38f7cbb7-5d6a-4c89-bcbd-8e164144172a_2_ann.json', './BASIL/annotations/2010\\\\38f7cbb7-5d6a-4c89-bcbd-8e164144172a_3_ann.json', './BASIL/annotations/2010\\\\45bd61bc-c356-4450-9e3a-cbfc862b09fd_1_ann.json', './BASIL/annotations/2010\\\\45bd61bc-c356-4450-9e3a-cbfc862b09fd_2_ann.json', './BASIL/annotations/2010\\\\45bd61bc-c356-4450-9e3a-cbfc862b09fd_3_ann.json', './BASIL/annotations/2010\\\\6b541575-99b1-40d2-8730-9bb868ee38ed_1_ann.json', './BASIL/annotations/2010\\\\6b541575-99b1-40d2-8730-9bb868ee38ed_2_ann.json', './BASIL/annotations/2010\\\\6b541575-99b1-40d2-8730-9bb868ee38ed_3_ann.json', './BASIL/annotations/2010\\\\6f95dcb9-e960-45ac-8c0e-91b85724c909_1_ann.json', './BASIL/annotations/2010\\\\6f95dcb9-e960-45ac-8c0e-91b85724c909_2_ann.json', './BASIL/annotations/2010\\\\6f95dcb9-e960-45ac-8c0e-91b85724c909_3_ann.json', './BASIL/annotations/2010\\\\74708dbf-5dfc-4c66-8419-d7dbc00e4a06_1_ann.json', './BASIL/annotations/2010\\\\74708dbf-5dfc-4c66-8419-d7dbc00e4a06_2_ann.json', './BASIL/annotations/2010\\\\74708dbf-5dfc-4c66-8419-d7dbc00e4a06_3_ann.json', './BASIL/annotations/2010\\\\85475456-f38e-4c30-895d-ca2c819c6af1_1_ann.json', './BASIL/annotations/2010\\\\85475456-f38e-4c30-895d-ca2c819c6af1_2_ann.json', './BASIL/annotations/2010\\\\85475456-f38e-4c30-895d-ca2c819c6af1_3_ann.json', './BASIL/annotations/2010\\\\97b1305c-13ca-4b74-a56a-f459bd79dfaf_1_ann.json', './BASIL/annotations/2010\\\\97b1305c-13ca-4b74-a56a-f459bd79dfaf_2_ann.json', './BASIL/annotations/2010\\\\97b1305c-13ca-4b74-a56a-f459bd79dfaf_3_ann.json', './BASIL/annotations/2010\\\\ae243a95-b2c2-410c-9e2b-b083b4b8eb48_1_ann.json', './BASIL/annotations/2010\\\\ae243a95-b2c2-410c-9e2b-b083b4b8eb48_2_ann.json', './BASIL/annotations/2010\\\\ae243a95-b2c2-410c-9e2b-b083b4b8eb48_3_ann.json', './BASIL/annotations/2010\\\\df5fe55a-dfcb-4817-8631-830f47c21a72_1_ann.json', './BASIL/annotations/2010\\\\df5fe55a-dfcb-4817-8631-830f47c21a72_2_ann.json', './BASIL/annotations/2010\\\\df5fe55a-dfcb-4817-8631-830f47c21a72_3_ann.json', './BASIL/annotations/2011\\\\005a2961-0c2e-4575-8eec-770ba52a08e0_1_ann.json', './BASIL/annotations/2011\\\\005a2961-0c2e-4575-8eec-770ba52a08e0_2_ann.json', './BASIL/annotations/2011\\\\005a2961-0c2e-4575-8eec-770ba52a08e0_3_ann.json', './BASIL/annotations/2011\\\\0ffb34cd-c367-4d90-aca7-7fcac3ed8f3d_1_ann.json', './BASIL/annotations/2011\\\\0ffb34cd-c367-4d90-aca7-7fcac3ed8f3d_2_ann.json', './BASIL/annotations/2011\\\\0ffb34cd-c367-4d90-aca7-7fcac3ed8f3d_3_ann.json', './BASIL/annotations/2011\\\\2058ec60-5372-4f5f-83a3-da780be3a350_1_ann.json', './BASIL/annotations/2011\\\\2058ec60-5372-4f5f-83a3-da780be3a350_2_ann.json', './BASIL/annotations/2011\\\\2058ec60-5372-4f5f-83a3-da780be3a350_3_ann.json', './BASIL/annotations/2011\\\\2153fb3e-6b09-410c-bfea-d095c49a54ba_1_ann.json', './BASIL/annotations/2011\\\\2153fb3e-6b09-410c-bfea-d095c49a54ba_2_ann.json', './BASIL/annotations/2011\\\\2153fb3e-6b09-410c-bfea-d095c49a54ba_3_ann.json', './BASIL/annotations/2011\\\\3db93526-a344-4ea4-8772-3734d0cfdfb1_1_ann.json', './BASIL/annotations/2011\\\\3db93526-a344-4ea4-8772-3734d0cfdfb1_2_ann.json', './BASIL/annotations/2011\\\\3db93526-a344-4ea4-8772-3734d0cfdfb1_3_ann.json', './BASIL/annotations/2011\\\\550b80db-bdd5-442b-8f70-c8e9f3203a13_1_ann.json', './BASIL/annotations/2011\\\\550b80db-bdd5-442b-8f70-c8e9f3203a13_2_ann.json', './BASIL/annotations/2011\\\\550b80db-bdd5-442b-8f70-c8e9f3203a13_3_ann.json', './BASIL/annotations/2011\\\\576116e5-2b18-4d35-be73-36f5863c9468_1_ann.json', './BASIL/annotations/2011\\\\576116e5-2b18-4d35-be73-36f5863c9468_2_ann.json', './BASIL/annotations/2011\\\\576116e5-2b18-4d35-be73-36f5863c9468_3_ann.json', './BASIL/annotations/2011\\\\97566c74-e000-49fb-b091-e6ec6e179de0_1_ann.json', './BASIL/annotations/2011\\\\97566c74-e000-49fb-b091-e6ec6e179de0_2_ann.json', './BASIL/annotations/2011\\\\97566c74-e000-49fb-b091-e6ec6e179de0_3_ann.json', './BASIL/annotations/2011\\\\a28a0329-0887-42dc-bd3d-3bb4f8926757_1_ann.json', './BASIL/annotations/2011\\\\a28a0329-0887-42dc-bd3d-3bb4f8926757_2_ann.json', './BASIL/annotations/2011\\\\a28a0329-0887-42dc-bd3d-3bb4f8926757_3_ann.json', './BASIL/annotations/2011\\\\c21cb217-3e2c-49bd-884d-5c74a165ef10_1_ann.json', './BASIL/annotations/2011\\\\c21cb217-3e2c-49bd-884d-5c74a165ef10_2_ann.json', './BASIL/annotations/2011\\\\c21cb217-3e2c-49bd-884d-5c74a165ef10_3_ann.json', './BASIL/annotations/2012\\\\08bb9bee-c167-4c17-9c6d-4a1259231eb7_1_ann.json', './BASIL/annotations/2012\\\\08bb9bee-c167-4c17-9c6d-4a1259231eb7_2_ann.json', './BASIL/annotations/2012\\\\08bb9bee-c167-4c17-9c6d-4a1259231eb7_3_ann.json', './BASIL/annotations/2012\\\\29ffd053-7684-469b-a600-97000579bd01_1_ann.json', './BASIL/annotations/2012\\\\29ffd053-7684-469b-a600-97000579bd01_2_ann.json', './BASIL/annotations/2012\\\\29ffd053-7684-469b-a600-97000579bd01_3_ann.json', './BASIL/annotations/2012\\\\2ec04201-2016-4227-baf7-ba8289058203_1_ann.json', './BASIL/annotations/2012\\\\2ec04201-2016-4227-baf7-ba8289058203_2_ann.json', './BASIL/annotations/2012\\\\2ec04201-2016-4227-baf7-ba8289058203_3_ann.json', './BASIL/annotations/2012\\\\450755dd-30d3-478b-933e-917be5c384ba_1_ann.json', './BASIL/annotations/2012\\\\450755dd-30d3-478b-933e-917be5c384ba_2_ann.json', './BASIL/annotations/2012\\\\450755dd-30d3-478b-933e-917be5c384ba_3_ann.json', './BASIL/annotations/2012\\\\65cb14cb-2d27-41e5-a2be-6fd6314f4363_1_ann.json', './BASIL/annotations/2012\\\\65cb14cb-2d27-41e5-a2be-6fd6314f4363_2_ann.json', './BASIL/annotations/2012\\\\65cb14cb-2d27-41e5-a2be-6fd6314f4363_3_ann.json', './BASIL/annotations/2012\\\\8dc7ccfe-5cf0-482f-9101-a7c69881da4d_1_ann.json', './BASIL/annotations/2012\\\\8dc7ccfe-5cf0-482f-9101-a7c69881da4d_2_ann.json', './BASIL/annotations/2012\\\\8dc7ccfe-5cf0-482f-9101-a7c69881da4d_3_ann.json', './BASIL/annotations/2012\\\\b4dbeda7-a1f3-4711-ae77-db23809d1ed2_1_ann.json', './BASIL/annotations/2012\\\\b4dbeda7-a1f3-4711-ae77-db23809d1ed2_2_ann.json', './BASIL/annotations/2012\\\\b4dbeda7-a1f3-4711-ae77-db23809d1ed2_3_ann.json', './BASIL/annotations/2012\\\\b5eefefb-2a33-45de-abe1-f855c94165f4_1_ann.json', './BASIL/annotations/2012\\\\b5eefefb-2a33-45de-abe1-f855c94165f4_2_ann.json', './BASIL/annotations/2012\\\\b5eefefb-2a33-45de-abe1-f855c94165f4_3_ann.json', './BASIL/annotations/2012\\\\cad4bba5-cf97-45cb-8059-ebeb47dcec7a_1_ann.json', './BASIL/annotations/2012\\\\cad4bba5-cf97-45cb-8059-ebeb47dcec7a_2_ann.json', './BASIL/annotations/2012\\\\cad4bba5-cf97-45cb-8059-ebeb47dcec7a_3_ann.json', './BASIL/annotations/2012\\\\f11c2566-848a-4e29-b8c5-4de0a81114e4_1_ann.json', './BASIL/annotations/2012\\\\f11c2566-848a-4e29-b8c5-4de0a81114e4_2_ann.json', './BASIL/annotations/2012\\\\f11c2566-848a-4e29-b8c5-4de0a81114e4_3_ann.json', './BASIL/annotations/2013\\\\11c9f251-35c8-4452-b052-df9be61464c6_1_ann.json', './BASIL/annotations/2013\\\\11c9f251-35c8-4452-b052-df9be61464c6_2_ann.json', './BASIL/annotations/2013\\\\11c9f251-35c8-4452-b052-df9be61464c6_3_ann.json', './BASIL/annotations/2013\\\\1bb79cc1-5d69-4136-a23d-6dbd300cbf25_1_ann.json', './BASIL/annotations/2013\\\\1bb79cc1-5d69-4136-a23d-6dbd300cbf25_2_ann.json', './BASIL/annotations/2013\\\\1bb79cc1-5d69-4136-a23d-6dbd300cbf25_3_ann.json', './BASIL/annotations/2013\\\\526cabb7-02a3-4adb-8e90-ec781c40c498_1_ann.json', './BASIL/annotations/2013\\\\526cabb7-02a3-4adb-8e90-ec781c40c498_2_ann.json', './BASIL/annotations/2013\\\\526cabb7-02a3-4adb-8e90-ec781c40c498_3_ann.json', './BASIL/annotations/2013\\\\68748e7f-cf6e-4ac7-8504-454c0876880d_1_ann.json', './BASIL/annotations/2013\\\\68748e7f-cf6e-4ac7-8504-454c0876880d_2_ann.json', './BASIL/annotations/2013\\\\68748e7f-cf6e-4ac7-8504-454c0876880d_3_ann.json', './BASIL/annotations/2013\\\\70c744ad-e950-445c-8a7a-0782b0a7d20b_1_ann.json', './BASIL/annotations/2013\\\\70c744ad-e950-445c-8a7a-0782b0a7d20b_2_ann.json', './BASIL/annotations/2013\\\\70c744ad-e950-445c-8a7a-0782b0a7d20b_3_ann.json', './BASIL/annotations/2013\\\\84678e18-0b79-4570-9c9f-cb1cf88d968e_1_ann.json', './BASIL/annotations/2013\\\\84678e18-0b79-4570-9c9f-cb1cf88d968e_2_ann.json', './BASIL/annotations/2013\\\\84678e18-0b79-4570-9c9f-cb1cf88d968e_3_ann.json', './BASIL/annotations/2013\\\\9879bbc0-eab3-482f-bf6b-a4b519393986_1_ann.json', './BASIL/annotations/2013\\\\9879bbc0-eab3-482f-bf6b-a4b519393986_2_ann.json', './BASIL/annotations/2013\\\\9879bbc0-eab3-482f-bf6b-a4b519393986_3_ann.json', './BASIL/annotations/2013\\\\a4f1d515-d7d9-4319-b2e0-4d56e9d45554_1_ann.json', './BASIL/annotations/2013\\\\a4f1d515-d7d9-4319-b2e0-4d56e9d45554_2_ann.json', './BASIL/annotations/2013\\\\a4f1d515-d7d9-4319-b2e0-4d56e9d45554_3_ann.json', './BASIL/annotations/2013\\\\d3a1ce0a-fc48-4827-a278-8f0ce8c7a519_1_ann.json', './BASIL/annotations/2013\\\\d3a1ce0a-fc48-4827-a278-8f0ce8c7a519_2_ann.json', './BASIL/annotations/2013\\\\d3a1ce0a-fc48-4827-a278-8f0ce8c7a519_3_ann.json', './BASIL/annotations/2013\\\\f506aafc-8b43-427a-936e-bbd1ef33e076_1_ann.json', './BASIL/annotations/2013\\\\f506aafc-8b43-427a-936e-bbd1ef33e076_2_ann.json', './BASIL/annotations/2013\\\\f506aafc-8b43-427a-936e-bbd1ef33e076_3_ann.json', './BASIL/annotations/2014\\\\22b6e900-4826-4b09-a9f8-5d7afe46e78b_1_ann.json', './BASIL/annotations/2014\\\\22b6e900-4826-4b09-a9f8-5d7afe46e78b_2_ann.json', './BASIL/annotations/2014\\\\22b6e900-4826-4b09-a9f8-5d7afe46e78b_3_ann.json', './BASIL/annotations/2014\\\\33521e65-12da-4521-b132-7b606243b0e4_1_ann.json', './BASIL/annotations/2014\\\\33521e65-12da-4521-b132-7b606243b0e4_2_ann.json', './BASIL/annotations/2014\\\\33521e65-12da-4521-b132-7b606243b0e4_3_ann.json', './BASIL/annotations/2014\\\\58ed2376-35a0-453a-a08e-5cd87e3bdea5_1_ann.json', './BASIL/annotations/2014\\\\58ed2376-35a0-453a-a08e-5cd87e3bdea5_2_ann.json', './BASIL/annotations/2014\\\\58ed2376-35a0-453a-a08e-5cd87e3bdea5_3_ann.json', './BASIL/annotations/2014\\\\96b7046f-f584-422f-a626-6f86a26dfd8b_1_ann.json', './BASIL/annotations/2014\\\\96b7046f-f584-422f-a626-6f86a26dfd8b_2_ann.json', './BASIL/annotations/2014\\\\96b7046f-f584-422f-a626-6f86a26dfd8b_3_ann.json', './BASIL/annotations/2014\\\\b764f81f-6d08-4d7c-b1a8-8961bed0a455_1_ann.json', './BASIL/annotations/2014\\\\b764f81f-6d08-4d7c-b1a8-8961bed0a455_2_ann.json', './BASIL/annotations/2014\\\\b764f81f-6d08-4d7c-b1a8-8961bed0a455_3_ann.json', './BASIL/annotations/2014\\\\c99adbdd-eaf3-4844-9548-2642e80de4e2_1_ann.json', './BASIL/annotations/2014\\\\c99adbdd-eaf3-4844-9548-2642e80de4e2_2_ann.json', './BASIL/annotations/2014\\\\c99adbdd-eaf3-4844-9548-2642e80de4e2_3_ann.json', './BASIL/annotations/2014\\\\ccf19ab6-7878-4378-b99c-2b08cc21371f_1_ann.json', './BASIL/annotations/2014\\\\ccf19ab6-7878-4378-b99c-2b08cc21371f_2_ann.json', './BASIL/annotations/2014\\\\ccf19ab6-7878-4378-b99c-2b08cc21371f_3_ann.json', './BASIL/annotations/2014\\\\d1344998-0e7c-409e-aaad-df5be687fc94_1_ann.json', './BASIL/annotations/2014\\\\d1344998-0e7c-409e-aaad-df5be687fc94_2_ann.json', './BASIL/annotations/2014\\\\d1344998-0e7c-409e-aaad-df5be687fc94_3_ann.json', './BASIL/annotations/2014\\\\ed8c136f-8d44-4c83-ad05-0dcfc3a0c54a_1_ann.json', './BASIL/annotations/2014\\\\ed8c136f-8d44-4c83-ad05-0dcfc3a0c54a_2_ann.json', './BASIL/annotations/2014\\\\ed8c136f-8d44-4c83-ad05-0dcfc3a0c54a_3_ann.json', './BASIL/annotations/2014\\\\ee05c9b3-529c-4268-ad72-19bd34f7197e_1_ann.json', './BASIL/annotations/2014\\\\ee05c9b3-529c-4268-ad72-19bd34f7197e_2_ann.json', './BASIL/annotations/2014\\\\ee05c9b3-529c-4268-ad72-19bd34f7197e_3_ann.json', './BASIL/annotations/2015\\\\13792511-5142-449f-8d3e-d77d790f65ec_1_ann.json', './BASIL/annotations/2015\\\\13792511-5142-449f-8d3e-d77d790f65ec_2_ann.json', './BASIL/annotations/2015\\\\13792511-5142-449f-8d3e-d77d790f65ec_3_ann.json', './BASIL/annotations/2015\\\\2742e9c1-2943-496f-8b23-faf5332e1612_1_ann.json', './BASIL/annotations/2015\\\\2742e9c1-2943-496f-8b23-faf5332e1612_2_ann.json', './BASIL/annotations/2015\\\\2742e9c1-2943-496f-8b23-faf5332e1612_3_ann.json', './BASIL/annotations/2015\\\\2b9468af-4ab0-4f25-85f4-c3ef93d72006_1_ann.json', './BASIL/annotations/2015\\\\2b9468af-4ab0-4f25-85f4-c3ef93d72006_2_ann.json', './BASIL/annotations/2015\\\\2b9468af-4ab0-4f25-85f4-c3ef93d72006_3_ann.json', './BASIL/annotations/2015\\\\4f473faf-f928-4cfd-8bed-00578be9db9a_1_ann.json', './BASIL/annotations/2015\\\\4f473faf-f928-4cfd-8bed-00578be9db9a_2_ann.json', './BASIL/annotations/2015\\\\4f473faf-f928-4cfd-8bed-00578be9db9a_3_ann.json', './BASIL/annotations/2015\\\\6e502405-bc90-4416-a787-3122918aa648_1_ann.json', './BASIL/annotations/2015\\\\6e502405-bc90-4416-a787-3122918aa648_2_ann.json', './BASIL/annotations/2015\\\\6e502405-bc90-4416-a787-3122918aa648_3_ann.json', './BASIL/annotations/2015\\\\7f9c83f7-3efa-4c7a-adef-3ebdeda96042_1_ann.json', './BASIL/annotations/2015\\\\7f9c83f7-3efa-4c7a-adef-3ebdeda96042_2_ann.json', './BASIL/annotations/2015\\\\7f9c83f7-3efa-4c7a-adef-3ebdeda96042_3_ann.json', './BASIL/annotations/2015\\\\8dac6c12-b5ca-468c-a249-7e0ab42f6b52_1_ann.json', './BASIL/annotations/2015\\\\8dac6c12-b5ca-468c-a249-7e0ab42f6b52_2_ann.json', './BASIL/annotations/2015\\\\8dac6c12-b5ca-468c-a249-7e0ab42f6b52_3_ann.json', './BASIL/annotations/2015\\\\a4edca3f-931f-4785-8c3f-f3d8fa84cbec_1_ann.json', './BASIL/annotations/2015\\\\a4edca3f-931f-4785-8c3f-f3d8fa84cbec_2_ann.json', './BASIL/annotations/2015\\\\a4edca3f-931f-4785-8c3f-f3d8fa84cbec_3_ann.json', './BASIL/annotations/2015\\\\af4a3f41-eeb5-49fa-a276-e97c230b25f0_1_ann.json', './BASIL/annotations/2015\\\\af4a3f41-eeb5-49fa-a276-e97c230b25f0_2_ann.json', './BASIL/annotations/2015\\\\af4a3f41-eeb5-49fa-a276-e97c230b25f0_3_ann.json', './BASIL/annotations/2015\\\\c5534b7e-a373-4962-8345-3847bc41a636_1_ann.json', './BASIL/annotations/2015\\\\c5534b7e-a373-4962-8345-3847bc41a636_2_ann.json', './BASIL/annotations/2015\\\\c5534b7e-a373-4962-8345-3847bc41a636_3_ann.json', './BASIL/annotations/2016\\\\1b96a5db-8974-46d3-82d7-5dfef02f650e_1_ann.json', './BASIL/annotations/2016\\\\1b96a5db-8974-46d3-82d7-5dfef02f650e_2_ann.json', './BASIL/annotations/2016\\\\1b96a5db-8974-46d3-82d7-5dfef02f650e_3_ann.json', './BASIL/annotations/2016\\\\472158a1-4e39-4214-8397-904e66f2b4c5_1_ann.json', './BASIL/annotations/2016\\\\472158a1-4e39-4214-8397-904e66f2b4c5_2_ann.json', './BASIL/annotations/2016\\\\472158a1-4e39-4214-8397-904e66f2b4c5_3_ann.json', './BASIL/annotations/2016\\\\59f2f47c-5da0-4fbc-be6e-4f15d45d82e2_1_ann.json', './BASIL/annotations/2016\\\\59f2f47c-5da0-4fbc-be6e-4f15d45d82e2_2_ann.json', './BASIL/annotations/2016\\\\59f2f47c-5da0-4fbc-be6e-4f15d45d82e2_3_ann.json', './BASIL/annotations/2016\\\\76810849-0335-4ad3-9eaf-f0d9c5baceb6_1_ann.json', './BASIL/annotations/2016\\\\76810849-0335-4ad3-9eaf-f0d9c5baceb6_2_ann.json', './BASIL/annotations/2016\\\\76810849-0335-4ad3-9eaf-f0d9c5baceb6_3_ann.json', './BASIL/annotations/2016\\\\79bf99c6-6fca-4ce4-8ae1-8771de026142_1_ann.json', './BASIL/annotations/2016\\\\79bf99c6-6fca-4ce4-8ae1-8771de026142_2_ann.json', './BASIL/annotations/2016\\\\79bf99c6-6fca-4ce4-8ae1-8771de026142_3_ann.json', './BASIL/annotations/2016\\\\7a97de89-1433-46f7-bcc2-f80b041cb9a0_1_ann.json', './BASIL/annotations/2016\\\\7a97de89-1433-46f7-bcc2-f80b041cb9a0_2_ann.json', './BASIL/annotations/2016\\\\7a97de89-1433-46f7-bcc2-f80b041cb9a0_3_ann.json', './BASIL/annotations/2016\\\\8385a996-1afc-4778-a06d-7070a8f19e27_1_ann.json', './BASIL/annotations/2016\\\\8385a996-1afc-4778-a06d-7070a8f19e27_2_ann.json', './BASIL/annotations/2016\\\\8385a996-1afc-4778-a06d-7070a8f19e27_3_ann.json', './BASIL/annotations/2016\\\\8abec8d9-50a2-480e-969a-157f94954f4d_1_ann.json', './BASIL/annotations/2016\\\\8abec8d9-50a2-480e-969a-157f94954f4d_2_ann.json', './BASIL/annotations/2016\\\\8abec8d9-50a2-480e-969a-157f94954f4d_3_ann.json', './BASIL/annotations/2016\\\\d4a4bc34-e48b-4485-86b2-f1daf4d464dd_1_ann.json', './BASIL/annotations/2016\\\\d4a4bc34-e48b-4485-86b2-f1daf4d464dd_2_ann.json', './BASIL/annotations/2016\\\\d4a4bc34-e48b-4485-86b2-f1daf4d464dd_3_ann.json', './BASIL/annotations/2016\\\\eadabee7-3db9-43c4-a485-3e8b1882cd3c_1_ann.json', './BASIL/annotations/2016\\\\eadabee7-3db9-43c4-a485-3e8b1882cd3c_2_ann.json', './BASIL/annotations/2016\\\\eadabee7-3db9-43c4-a485-3e8b1882cd3c_3_ann.json', './BASIL/annotations/2017\\\\0c78e748-efbf-417c-a8c1-beeb6480147f_1_ann.json', './BASIL/annotations/2017\\\\0c78e748-efbf-417c-a8c1-beeb6480147f_2_ann.json', './BASIL/annotations/2017\\\\0c78e748-efbf-417c-a8c1-beeb6480147f_3_ann.json', './BASIL/annotations/2017\\\\47a209b0-fc26-4a0a-a1fe-e4310d1d2419_1_ann.json', './BASIL/annotations/2017\\\\47a209b0-fc26-4a0a-a1fe-e4310d1d2419_2_ann.json', './BASIL/annotations/2017\\\\47a209b0-fc26-4a0a-a1fe-e4310d1d2419_3_ann.json', './BASIL/annotations/2017\\\\542cd22c-ea80-4669-995b-6ac6a33823f7_1_ann.json', './BASIL/annotations/2017\\\\542cd22c-ea80-4669-995b-6ac6a33823f7_2_ann.json', './BASIL/annotations/2017\\\\542cd22c-ea80-4669-995b-6ac6a33823f7_3_ann.json', './BASIL/annotations/2017\\\\58f414e5-a122-49f5-819e-512d91069da5_1_ann.json', './BASIL/annotations/2017\\\\58f414e5-a122-49f5-819e-512d91069da5_2_ann.json', './BASIL/annotations/2017\\\\58f414e5-a122-49f5-819e-512d91069da5_3_ann.json', './BASIL/annotations/2017\\\\72fa9b13-4e59-4716-8df9-4c3580e7dddf_1_ann.json', './BASIL/annotations/2017\\\\72fa9b13-4e59-4716-8df9-4c3580e7dddf_2_ann.json', './BASIL/annotations/2017\\\\72fa9b13-4e59-4716-8df9-4c3580e7dddf_3_ann.json', './BASIL/annotations/2017\\\\84b3c118-50d2-45a5-a91f-7ed95b5d0143_1_ann.json', './BASIL/annotations/2017\\\\84b3c118-50d2-45a5-a91f-7ed95b5d0143_2_ann.json', './BASIL/annotations/2017\\\\84b3c118-50d2-45a5-a91f-7ed95b5d0143_3_ann.json', './BASIL/annotations/2017\\\\be026bd1-52b1-4789-bfd3-3632af17b054_1_ann.json', './BASIL/annotations/2017\\\\be026bd1-52b1-4789-bfd3-3632af17b054_2_ann.json', './BASIL/annotations/2017\\\\be026bd1-52b1-4789-bfd3-3632af17b054_3_ann.json', './BASIL/annotations/2017\\\\d16050b3-979f-4834-90db-b8823691b87e_1_ann.json', './BASIL/annotations/2017\\\\d16050b3-979f-4834-90db-b8823691b87e_2_ann.json', './BASIL/annotations/2017\\\\d16050b3-979f-4834-90db-b8823691b87e_3_ann.json', './BASIL/annotations/2017\\\\dd1e6e3b-f36c-4064-8ef9-940984e9afa2_1_ann.json', './BASIL/annotations/2017\\\\dd1e6e3b-f36c-4064-8ef9-940984e9afa2_2_ann.json', './BASIL/annotations/2017\\\\dd1e6e3b-f36c-4064-8ef9-940984e9afa2_3_ann.json', './BASIL/annotations/2017\\\\df6a55fb-dfe5-4362-89a6-8c040d648a70_1_ann.json', './BASIL/annotations/2017\\\\df6a55fb-dfe5-4362-89a6-8c040d648a70_2_ann.json', './BASIL/annotations/2017\\\\df6a55fb-dfe5-4362-89a6-8c040d648a70_3_ann.json', './BASIL/annotations/2018\\\\01c59743-7082-44fc-8414-3c04126f470f_1_ann.json', './BASIL/annotations/2018\\\\01c59743-7082-44fc-8414-3c04126f470f_2_ann.json', './BASIL/annotations/2018\\\\01c59743-7082-44fc-8414-3c04126f470f_3_ann.json', './BASIL/annotations/2018\\\\06ffda2d-1caf-45ba-99e2-268aac1bf0e1_1_ann.json', './BASIL/annotations/2018\\\\06ffda2d-1caf-45ba-99e2-268aac1bf0e1_2_ann.json', './BASIL/annotations/2018\\\\06ffda2d-1caf-45ba-99e2-268aac1bf0e1_3_ann.json', './BASIL/annotations/2018\\\\1ed4f378-b9d4-43b8-8d50-53d0cc063332_1_ann.json', './BASIL/annotations/2018\\\\1ed4f378-b9d4-43b8-8d50-53d0cc063332_2_ann.json', './BASIL/annotations/2018\\\\1ed4f378-b9d4-43b8-8d50-53d0cc063332_3_ann.json', './BASIL/annotations/2018\\\\1f99798f-2b60-4ecb-b5f4-4aa7991e8ace_1_ann.json', './BASIL/annotations/2018\\\\1f99798f-2b60-4ecb-b5f4-4aa7991e8ace_2_ann.json', './BASIL/annotations/2018\\\\1f99798f-2b60-4ecb-b5f4-4aa7991e8ace_3_ann.json', './BASIL/annotations/2018\\\\2a3fde8a-082a-4d8f-9567-f7e8366c0200_1_ann.json', './BASIL/annotations/2018\\\\2a3fde8a-082a-4d8f-9567-f7e8366c0200_2_ann.json', './BASIL/annotations/2018\\\\2a3fde8a-082a-4d8f-9567-f7e8366c0200_3_ann.json', './BASIL/annotations/2018\\\\87609973-bd58-42a5-96e2-ee5aa47433f5_1_ann.json', './BASIL/annotations/2018\\\\87609973-bd58-42a5-96e2-ee5aa47433f5_2_ann.json', './BASIL/annotations/2018\\\\87609973-bd58-42a5-96e2-ee5aa47433f5_3_ann.json', './BASIL/annotations/2018\\\\ad409798-ee94-4436-92c5-92669193be14_1_ann.json', './BASIL/annotations/2018\\\\ad409798-ee94-4436-92c5-92669193be14_2_ann.json', './BASIL/annotations/2018\\\\ad409798-ee94-4436-92c5-92669193be14_3_ann.json', './BASIL/annotations/2018\\\\c6a0e65c-4f8b-41de-8200-cd700f683c64_1_ann.json', './BASIL/annotations/2018\\\\c6a0e65c-4f8b-41de-8200-cd700f683c64_2_ann.json', './BASIL/annotations/2018\\\\c6a0e65c-4f8b-41de-8200-cd700f683c64_3_ann.json', './BASIL/annotations/2018\\\\eb17fa36-89f2-4d0b-8133-7bb4682228e1_1_ann.json', './BASIL/annotations/2018\\\\eb17fa36-89f2-4d0b-8133-7bb4682228e1_2_ann.json', './BASIL/annotations/2018\\\\eb17fa36-89f2-4d0b-8133-7bb4682228e1_3_ann.json', './BASIL/annotations/2018\\\\f688c56d-7fae-42ef-b7f7-7db207b58d27_1_ann.json', './BASIL/annotations/2018\\\\f688c56d-7fae-42ef-b7f7-7db207b58d27_2_ann.json', './BASIL/annotations/2018\\\\f688c56d-7fae-42ef-b7f7-7db207b58d27_3_ann.json', './BASIL/annotations/2019\\\\0d10341a-9dba-4374-a524-814c300d1611_1_ann.json', './BASIL/annotations/2019\\\\0d10341a-9dba-4374-a524-814c300d1611_2_ann.json', './BASIL/annotations/2019\\\\0d10341a-9dba-4374-a524-814c300d1611_3_ann.json', './BASIL/annotations/2019\\\\1e41e98b-9ac1-441d-b2c2-19d8f730c74a_1_ann.json', './BASIL/annotations/2019\\\\1e41e98b-9ac1-441d-b2c2-19d8f730c74a_2_ann.json', './BASIL/annotations/2019\\\\1e41e98b-9ac1-441d-b2c2-19d8f730c74a_3_ann.json', './BASIL/annotations/2019\\\\2f3e86b6-8443-47bd-9cd3-491c90a59fe9_1_ann.json', './BASIL/annotations/2019\\\\2f3e86b6-8443-47bd-9cd3-491c90a59fe9_2_ann.json', './BASIL/annotations/2019\\\\2f3e86b6-8443-47bd-9cd3-491c90a59fe9_3_ann.json', './BASIL/annotations/2019\\\\3ae35b16-7f7f-4a5e-9f24-5ce724106a73_1_ann.json', './BASIL/annotations/2019\\\\3ae35b16-7f7f-4a5e-9f24-5ce724106a73_2_ann.json', './BASIL/annotations/2019\\\\3ae35b16-7f7f-4a5e-9f24-5ce724106a73_3_ann.json', './BASIL/annotations/2019\\\\70c75d68-bf65-46a6-a822-15c23d77a275_1_ann.json', './BASIL/annotations/2019\\\\70c75d68-bf65-46a6-a822-15c23d77a275_2_ann.json', './BASIL/annotations/2019\\\\70c75d68-bf65-46a6-a822-15c23d77a275_3_ann.json', './BASIL/annotations/2019\\\\86e6e27d-1440-4879-8b13-0dd2d89f7281_1_ann.json', './BASIL/annotations/2019\\\\86e6e27d-1440-4879-8b13-0dd2d89f7281_2_ann.json', './BASIL/annotations/2019\\\\86e6e27d-1440-4879-8b13-0dd2d89f7281_3_ann.json', './BASIL/annotations/2019\\\\aab91277-8d56-4844-a581-45630f873f49_1_ann.json', './BASIL/annotations/2019\\\\aab91277-8d56-4844-a581-45630f873f49_2_ann.json', './BASIL/annotations/2019\\\\aab91277-8d56-4844-a581-45630f873f49_3_ann.json', './BASIL/annotations/2019\\\\b7021938-ff8d-42ea-adec-5704c0b65237_1_ann.json', './BASIL/annotations/2019\\\\b7021938-ff8d-42ea-adec-5704c0b65237_2_ann.json', './BASIL/annotations/2019\\\\b7021938-ff8d-42ea-adec-5704c0b65237_3_ann.json', './BASIL/annotations/2019\\\\c9e4d35f-aeae-462b-a8bf-e08d09a93b6e_1_ann.json', './BASIL/annotations/2019\\\\c9e4d35f-aeae-462b-a8bf-e08d09a93b6e_2_ann.json', './BASIL/annotations/2019\\\\c9e4d35f-aeae-462b-a8bf-e08d09a93b6e_3_ann.json', './BASIL/annotations/2019\\\\e71d149d-0426-43f0-87e8-8c611dad7205_1_ann.json', './BASIL/annotations/2019\\\\e71d149d-0426-43f0-87e8-8c611dad7205_2_ann.json', './BASIL/annotations/2019\\\\e71d149d-0426-43f0-87e8-8c611dad7205_3_ann.json']\n",
      "['./BASIL/articles/2010\\\\2b95d2cf-e979-4f9c-ae27-9a5370934f23_1.json', './BASIL/articles/2010\\\\2b95d2cf-e979-4f9c-ae27-9a5370934f23_2.json', './BASIL/articles/2010\\\\2b95d2cf-e979-4f9c-ae27-9a5370934f23_3.json', './BASIL/articles/2010\\\\38f7cbb7-5d6a-4c89-bcbd-8e164144172a_1.json', './BASIL/articles/2010\\\\38f7cbb7-5d6a-4c89-bcbd-8e164144172a_2.json', './BASIL/articles/2010\\\\38f7cbb7-5d6a-4c89-bcbd-8e164144172a_3.json', './BASIL/articles/2010\\\\45bd61bc-c356-4450-9e3a-cbfc862b09fd_1.json', './BASIL/articles/2010\\\\45bd61bc-c356-4450-9e3a-cbfc862b09fd_2.json', './BASIL/articles/2010\\\\45bd61bc-c356-4450-9e3a-cbfc862b09fd_3.json', './BASIL/articles/2010\\\\6b541575-99b1-40d2-8730-9bb868ee38ed_1.json', './BASIL/articles/2010\\\\6b541575-99b1-40d2-8730-9bb868ee38ed_2.json', './BASIL/articles/2010\\\\6b541575-99b1-40d2-8730-9bb868ee38ed_3.json', './BASIL/articles/2010\\\\6f95dcb9-e960-45ac-8c0e-91b85724c909_1.json', './BASIL/articles/2010\\\\6f95dcb9-e960-45ac-8c0e-91b85724c909_2.json', './BASIL/articles/2010\\\\6f95dcb9-e960-45ac-8c0e-91b85724c909_3.json', './BASIL/articles/2010\\\\74708dbf-5dfc-4c66-8419-d7dbc00e4a06_1.json', './BASIL/articles/2010\\\\74708dbf-5dfc-4c66-8419-d7dbc00e4a06_2.json', './BASIL/articles/2010\\\\74708dbf-5dfc-4c66-8419-d7dbc00e4a06_3.json', './BASIL/articles/2010\\\\85475456-f38e-4c30-895d-ca2c819c6af1_1.json', './BASIL/articles/2010\\\\85475456-f38e-4c30-895d-ca2c819c6af1_2.json', './BASIL/articles/2010\\\\85475456-f38e-4c30-895d-ca2c819c6af1_3.json', './BASIL/articles/2010\\\\97b1305c-13ca-4b74-a56a-f459bd79dfaf_1.json', './BASIL/articles/2010\\\\97b1305c-13ca-4b74-a56a-f459bd79dfaf_2.json', './BASIL/articles/2010\\\\97b1305c-13ca-4b74-a56a-f459bd79dfaf_3.json', './BASIL/articles/2010\\\\ae243a95-b2c2-410c-9e2b-b083b4b8eb48_1.json', './BASIL/articles/2010\\\\ae243a95-b2c2-410c-9e2b-b083b4b8eb48_2.json', './BASIL/articles/2010\\\\ae243a95-b2c2-410c-9e2b-b083b4b8eb48_3.json', './BASIL/articles/2010\\\\df5fe55a-dfcb-4817-8631-830f47c21a72_1.json', './BASIL/articles/2010\\\\df5fe55a-dfcb-4817-8631-830f47c21a72_2.json', './BASIL/articles/2010\\\\df5fe55a-dfcb-4817-8631-830f47c21a72_3.json', './BASIL/articles/2011\\\\005a2961-0c2e-4575-8eec-770ba52a08e0_1.json', './BASIL/articles/2011\\\\005a2961-0c2e-4575-8eec-770ba52a08e0_2.json', './BASIL/articles/2011\\\\005a2961-0c2e-4575-8eec-770ba52a08e0_3.json', './BASIL/articles/2011\\\\0ffb34cd-c367-4d90-aca7-7fcac3ed8f3d_1.json', './BASIL/articles/2011\\\\0ffb34cd-c367-4d90-aca7-7fcac3ed8f3d_2.json', './BASIL/articles/2011\\\\0ffb34cd-c367-4d90-aca7-7fcac3ed8f3d_3.json', './BASIL/articles/2011\\\\2058ec60-5372-4f5f-83a3-da780be3a350_1.json', './BASIL/articles/2011\\\\2058ec60-5372-4f5f-83a3-da780be3a350_2.json', './BASIL/articles/2011\\\\2058ec60-5372-4f5f-83a3-da780be3a350_3.json', './BASIL/articles/2011\\\\2153fb3e-6b09-410c-bfea-d095c49a54ba_1.json', './BASIL/articles/2011\\\\2153fb3e-6b09-410c-bfea-d095c49a54ba_2.json', './BASIL/articles/2011\\\\2153fb3e-6b09-410c-bfea-d095c49a54ba_3.json', './BASIL/articles/2011\\\\3db93526-a344-4ea4-8772-3734d0cfdfb1_1.json', './BASIL/articles/2011\\\\3db93526-a344-4ea4-8772-3734d0cfdfb1_2.json', './BASIL/articles/2011\\\\3db93526-a344-4ea4-8772-3734d0cfdfb1_3.json', './BASIL/articles/2011\\\\550b80db-bdd5-442b-8f70-c8e9f3203a13_1.json', './BASIL/articles/2011\\\\550b80db-bdd5-442b-8f70-c8e9f3203a13_2.json', './BASIL/articles/2011\\\\550b80db-bdd5-442b-8f70-c8e9f3203a13_3.json', './BASIL/articles/2011\\\\576116e5-2b18-4d35-be73-36f5863c9468_1.json', './BASIL/articles/2011\\\\576116e5-2b18-4d35-be73-36f5863c9468_2.json', './BASIL/articles/2011\\\\576116e5-2b18-4d35-be73-36f5863c9468_3.json', './BASIL/articles/2011\\\\97566c74-e000-49fb-b091-e6ec6e179de0_1.json', './BASIL/articles/2011\\\\97566c74-e000-49fb-b091-e6ec6e179de0_2.json', './BASIL/articles/2011\\\\97566c74-e000-49fb-b091-e6ec6e179de0_3.json', './BASIL/articles/2011\\\\a28a0329-0887-42dc-bd3d-3bb4f8926757_1.json', './BASIL/articles/2011\\\\a28a0329-0887-42dc-bd3d-3bb4f8926757_2.json', './BASIL/articles/2011\\\\a28a0329-0887-42dc-bd3d-3bb4f8926757_3.json', './BASIL/articles/2011\\\\c21cb217-3e2c-49bd-884d-5c74a165ef10_1.json', './BASIL/articles/2011\\\\c21cb217-3e2c-49bd-884d-5c74a165ef10_2.json', './BASIL/articles/2011\\\\c21cb217-3e2c-49bd-884d-5c74a165ef10_3.json', './BASIL/articles/2012\\\\08bb9bee-c167-4c17-9c6d-4a1259231eb7_1.json', './BASIL/articles/2012\\\\08bb9bee-c167-4c17-9c6d-4a1259231eb7_2.json', './BASIL/articles/2012\\\\08bb9bee-c167-4c17-9c6d-4a1259231eb7_3.json', './BASIL/articles/2012\\\\29ffd053-7684-469b-a600-97000579bd01_1.json', './BASIL/articles/2012\\\\29ffd053-7684-469b-a600-97000579bd01_2.json', './BASIL/articles/2012\\\\29ffd053-7684-469b-a600-97000579bd01_3.json', './BASIL/articles/2012\\\\2ec04201-2016-4227-baf7-ba8289058203_1.json', './BASIL/articles/2012\\\\2ec04201-2016-4227-baf7-ba8289058203_2.json', './BASIL/articles/2012\\\\2ec04201-2016-4227-baf7-ba8289058203_3.json', './BASIL/articles/2012\\\\450755dd-30d3-478b-933e-917be5c384ba_1.json', './BASIL/articles/2012\\\\450755dd-30d3-478b-933e-917be5c384ba_2.json', './BASIL/articles/2012\\\\450755dd-30d3-478b-933e-917be5c384ba_3.json', './BASIL/articles/2012\\\\65cb14cb-2d27-41e5-a2be-6fd6314f4363_1.json', './BASIL/articles/2012\\\\65cb14cb-2d27-41e5-a2be-6fd6314f4363_2.json', './BASIL/articles/2012\\\\65cb14cb-2d27-41e5-a2be-6fd6314f4363_3.json', './BASIL/articles/2012\\\\8dc7ccfe-5cf0-482f-9101-a7c69881da4d_1.json', './BASIL/articles/2012\\\\8dc7ccfe-5cf0-482f-9101-a7c69881da4d_2.json', './BASIL/articles/2012\\\\8dc7ccfe-5cf0-482f-9101-a7c69881da4d_3.json', './BASIL/articles/2012\\\\b4dbeda7-a1f3-4711-ae77-db23809d1ed2_1.json', './BASIL/articles/2012\\\\b4dbeda7-a1f3-4711-ae77-db23809d1ed2_2.json', './BASIL/articles/2012\\\\b4dbeda7-a1f3-4711-ae77-db23809d1ed2_3.json', './BASIL/articles/2012\\\\b5eefefb-2a33-45de-abe1-f855c94165f4_1.json', './BASIL/articles/2012\\\\b5eefefb-2a33-45de-abe1-f855c94165f4_2.json', './BASIL/articles/2012\\\\b5eefefb-2a33-45de-abe1-f855c94165f4_3.json', './BASIL/articles/2012\\\\cad4bba5-cf97-45cb-8059-ebeb47dcec7a_1.json', './BASIL/articles/2012\\\\cad4bba5-cf97-45cb-8059-ebeb47dcec7a_2.json', './BASIL/articles/2012\\\\cad4bba5-cf97-45cb-8059-ebeb47dcec7a_3.json', './BASIL/articles/2012\\\\f11c2566-848a-4e29-b8c5-4de0a81114e4_1.json', './BASIL/articles/2012\\\\f11c2566-848a-4e29-b8c5-4de0a81114e4_2.json', './BASIL/articles/2012\\\\f11c2566-848a-4e29-b8c5-4de0a81114e4_3.json', './BASIL/articles/2013\\\\11c9f251-35c8-4452-b052-df9be61464c6_1.json', './BASIL/articles/2013\\\\11c9f251-35c8-4452-b052-df9be61464c6_2.json', './BASIL/articles/2013\\\\11c9f251-35c8-4452-b052-df9be61464c6_3.json', './BASIL/articles/2013\\\\1bb79cc1-5d69-4136-a23d-6dbd300cbf25_1.json', './BASIL/articles/2013\\\\1bb79cc1-5d69-4136-a23d-6dbd300cbf25_2.json', './BASIL/articles/2013\\\\1bb79cc1-5d69-4136-a23d-6dbd300cbf25_3.json', './BASIL/articles/2013\\\\526cabb7-02a3-4adb-8e90-ec781c40c498_1.json', './BASIL/articles/2013\\\\526cabb7-02a3-4adb-8e90-ec781c40c498_2.json', './BASIL/articles/2013\\\\526cabb7-02a3-4adb-8e90-ec781c40c498_3.json', './BASIL/articles/2013\\\\68748e7f-cf6e-4ac7-8504-454c0876880d_1.json', './BASIL/articles/2013\\\\68748e7f-cf6e-4ac7-8504-454c0876880d_2.json', './BASIL/articles/2013\\\\68748e7f-cf6e-4ac7-8504-454c0876880d_3.json', './BASIL/articles/2013\\\\70c744ad-e950-445c-8a7a-0782b0a7d20b_1.json', './BASIL/articles/2013\\\\70c744ad-e950-445c-8a7a-0782b0a7d20b_2.json', './BASIL/articles/2013\\\\70c744ad-e950-445c-8a7a-0782b0a7d20b_3.json', './BASIL/articles/2013\\\\84678e18-0b79-4570-9c9f-cb1cf88d968e_1.json', './BASIL/articles/2013\\\\84678e18-0b79-4570-9c9f-cb1cf88d968e_2.json', './BASIL/articles/2013\\\\84678e18-0b79-4570-9c9f-cb1cf88d968e_3.json', './BASIL/articles/2013\\\\9879bbc0-eab3-482f-bf6b-a4b519393986_1.json', './BASIL/articles/2013\\\\9879bbc0-eab3-482f-bf6b-a4b519393986_2.json', './BASIL/articles/2013\\\\9879bbc0-eab3-482f-bf6b-a4b519393986_3.json', './BASIL/articles/2013\\\\a4f1d515-d7d9-4319-b2e0-4d56e9d45554_1.json', './BASIL/articles/2013\\\\a4f1d515-d7d9-4319-b2e0-4d56e9d45554_2.json', './BASIL/articles/2013\\\\a4f1d515-d7d9-4319-b2e0-4d56e9d45554_3.json', './BASIL/articles/2013\\\\d3a1ce0a-fc48-4827-a278-8f0ce8c7a519_1.json', './BASIL/articles/2013\\\\d3a1ce0a-fc48-4827-a278-8f0ce8c7a519_2.json', './BASIL/articles/2013\\\\d3a1ce0a-fc48-4827-a278-8f0ce8c7a519_3.json', './BASIL/articles/2013\\\\f506aafc-8b43-427a-936e-bbd1ef33e076_1.json', './BASIL/articles/2013\\\\f506aafc-8b43-427a-936e-bbd1ef33e076_2.json', './BASIL/articles/2013\\\\f506aafc-8b43-427a-936e-bbd1ef33e076_3.json', './BASIL/articles/2014\\\\22b6e900-4826-4b09-a9f8-5d7afe46e78b_1.json', './BASIL/articles/2014\\\\22b6e900-4826-4b09-a9f8-5d7afe46e78b_2.json', './BASIL/articles/2014\\\\22b6e900-4826-4b09-a9f8-5d7afe46e78b_3.json', './BASIL/articles/2014\\\\33521e65-12da-4521-b132-7b606243b0e4_1.json', './BASIL/articles/2014\\\\33521e65-12da-4521-b132-7b606243b0e4_2.json', './BASIL/articles/2014\\\\33521e65-12da-4521-b132-7b606243b0e4_3.json', './BASIL/articles/2014\\\\58ed2376-35a0-453a-a08e-5cd87e3bdea5_1.json', './BASIL/articles/2014\\\\58ed2376-35a0-453a-a08e-5cd87e3bdea5_2.json', './BASIL/articles/2014\\\\58ed2376-35a0-453a-a08e-5cd87e3bdea5_3.json', './BASIL/articles/2014\\\\96b7046f-f584-422f-a626-6f86a26dfd8b_1.json', './BASIL/articles/2014\\\\96b7046f-f584-422f-a626-6f86a26dfd8b_2.json', './BASIL/articles/2014\\\\96b7046f-f584-422f-a626-6f86a26dfd8b_3.json', './BASIL/articles/2014\\\\b764f81f-6d08-4d7c-b1a8-8961bed0a455_1.json', './BASIL/articles/2014\\\\b764f81f-6d08-4d7c-b1a8-8961bed0a455_2.json', './BASIL/articles/2014\\\\b764f81f-6d08-4d7c-b1a8-8961bed0a455_3.json', './BASIL/articles/2014\\\\c99adbdd-eaf3-4844-9548-2642e80de4e2_1.json', './BASIL/articles/2014\\\\c99adbdd-eaf3-4844-9548-2642e80de4e2_2.json', './BASIL/articles/2014\\\\c99adbdd-eaf3-4844-9548-2642e80de4e2_3.json', './BASIL/articles/2014\\\\ccf19ab6-7878-4378-b99c-2b08cc21371f_1.json', './BASIL/articles/2014\\\\ccf19ab6-7878-4378-b99c-2b08cc21371f_2.json', './BASIL/articles/2014\\\\ccf19ab6-7878-4378-b99c-2b08cc21371f_3.json', './BASIL/articles/2014\\\\d1344998-0e7c-409e-aaad-df5be687fc94_1.json', './BASIL/articles/2014\\\\d1344998-0e7c-409e-aaad-df5be687fc94_2.json', './BASIL/articles/2014\\\\d1344998-0e7c-409e-aaad-df5be687fc94_3.json', './BASIL/articles/2014\\\\ed8c136f-8d44-4c83-ad05-0dcfc3a0c54a_1.json', './BASIL/articles/2014\\\\ed8c136f-8d44-4c83-ad05-0dcfc3a0c54a_2.json', './BASIL/articles/2014\\\\ed8c136f-8d44-4c83-ad05-0dcfc3a0c54a_3.json', './BASIL/articles/2014\\\\ee05c9b3-529c-4268-ad72-19bd34f7197e_1.json', './BASIL/articles/2014\\\\ee05c9b3-529c-4268-ad72-19bd34f7197e_2.json', './BASIL/articles/2014\\\\ee05c9b3-529c-4268-ad72-19bd34f7197e_3.json', './BASIL/articles/2015\\\\13792511-5142-449f-8d3e-d77d790f65ec_1.json', './BASIL/articles/2015\\\\13792511-5142-449f-8d3e-d77d790f65ec_2.json', './BASIL/articles/2015\\\\13792511-5142-449f-8d3e-d77d790f65ec_3.json', './BASIL/articles/2015\\\\2742e9c1-2943-496f-8b23-faf5332e1612_1.json', './BASIL/articles/2015\\\\2742e9c1-2943-496f-8b23-faf5332e1612_2.json', './BASIL/articles/2015\\\\2742e9c1-2943-496f-8b23-faf5332e1612_3.json', './BASIL/articles/2015\\\\2b9468af-4ab0-4f25-85f4-c3ef93d72006_1.json', './BASIL/articles/2015\\\\2b9468af-4ab0-4f25-85f4-c3ef93d72006_2.json', './BASIL/articles/2015\\\\2b9468af-4ab0-4f25-85f4-c3ef93d72006_3.json', './BASIL/articles/2015\\\\4f473faf-f928-4cfd-8bed-00578be9db9a_1.json', './BASIL/articles/2015\\\\4f473faf-f928-4cfd-8bed-00578be9db9a_2.json', './BASIL/articles/2015\\\\4f473faf-f928-4cfd-8bed-00578be9db9a_3.json', './BASIL/articles/2015\\\\6e502405-bc90-4416-a787-3122918aa648_1.json', './BASIL/articles/2015\\\\6e502405-bc90-4416-a787-3122918aa648_2.json', './BASIL/articles/2015\\\\6e502405-bc90-4416-a787-3122918aa648_3.json', './BASIL/articles/2015\\\\7f9c83f7-3efa-4c7a-adef-3ebdeda96042_1.json', './BASIL/articles/2015\\\\7f9c83f7-3efa-4c7a-adef-3ebdeda96042_2.json', './BASIL/articles/2015\\\\7f9c83f7-3efa-4c7a-adef-3ebdeda96042_3.json', './BASIL/articles/2015\\\\8dac6c12-b5ca-468c-a249-7e0ab42f6b52_1.json', './BASIL/articles/2015\\\\8dac6c12-b5ca-468c-a249-7e0ab42f6b52_2.json', './BASIL/articles/2015\\\\8dac6c12-b5ca-468c-a249-7e0ab42f6b52_3.json', './BASIL/articles/2015\\\\a4edca3f-931f-4785-8c3f-f3d8fa84cbec_1.json', './BASIL/articles/2015\\\\a4edca3f-931f-4785-8c3f-f3d8fa84cbec_2.json', './BASIL/articles/2015\\\\a4edca3f-931f-4785-8c3f-f3d8fa84cbec_3.json', './BASIL/articles/2015\\\\af4a3f41-eeb5-49fa-a276-e97c230b25f0_1.json', './BASIL/articles/2015\\\\af4a3f41-eeb5-49fa-a276-e97c230b25f0_2.json', './BASIL/articles/2015\\\\af4a3f41-eeb5-49fa-a276-e97c230b25f0_3.json', './BASIL/articles/2015\\\\c5534b7e-a373-4962-8345-3847bc41a636_1.json', './BASIL/articles/2015\\\\c5534b7e-a373-4962-8345-3847bc41a636_2.json', './BASIL/articles/2015\\\\c5534b7e-a373-4962-8345-3847bc41a636_3.json', './BASIL/articles/2016\\\\1b96a5db-8974-46d3-82d7-5dfef02f650e_1.json', './BASIL/articles/2016\\\\1b96a5db-8974-46d3-82d7-5dfef02f650e_2.json', './BASIL/articles/2016\\\\1b96a5db-8974-46d3-82d7-5dfef02f650e_3.json', './BASIL/articles/2016\\\\472158a1-4e39-4214-8397-904e66f2b4c5_1.json', './BASIL/articles/2016\\\\472158a1-4e39-4214-8397-904e66f2b4c5_2.json', './BASIL/articles/2016\\\\472158a1-4e39-4214-8397-904e66f2b4c5_3.json', './BASIL/articles/2016\\\\59f2f47c-5da0-4fbc-be6e-4f15d45d82e2_1.json', './BASIL/articles/2016\\\\59f2f47c-5da0-4fbc-be6e-4f15d45d82e2_2.json', './BASIL/articles/2016\\\\59f2f47c-5da0-4fbc-be6e-4f15d45d82e2_3.json', './BASIL/articles/2016\\\\76810849-0335-4ad3-9eaf-f0d9c5baceb6_1.json', './BASIL/articles/2016\\\\76810849-0335-4ad3-9eaf-f0d9c5baceb6_2.json', './BASIL/articles/2016\\\\76810849-0335-4ad3-9eaf-f0d9c5baceb6_3.json', './BASIL/articles/2016\\\\79bf99c6-6fca-4ce4-8ae1-8771de026142_1.json', './BASIL/articles/2016\\\\79bf99c6-6fca-4ce4-8ae1-8771de026142_2.json', './BASIL/articles/2016\\\\79bf99c6-6fca-4ce4-8ae1-8771de026142_3.json', './BASIL/articles/2016\\\\7a97de89-1433-46f7-bcc2-f80b041cb9a0_1.json', './BASIL/articles/2016\\\\7a97de89-1433-46f7-bcc2-f80b041cb9a0_2.json', './BASIL/articles/2016\\\\7a97de89-1433-46f7-bcc2-f80b041cb9a0_3.json', './BASIL/articles/2016\\\\8385a996-1afc-4778-a06d-7070a8f19e27_1.json', './BASIL/articles/2016\\\\8385a996-1afc-4778-a06d-7070a8f19e27_2.json', './BASIL/articles/2016\\\\8385a996-1afc-4778-a06d-7070a8f19e27_3.json', './BASIL/articles/2016\\\\8abec8d9-50a2-480e-969a-157f94954f4d_1.json', './BASIL/articles/2016\\\\8abec8d9-50a2-480e-969a-157f94954f4d_2.json', './BASIL/articles/2016\\\\8abec8d9-50a2-480e-969a-157f94954f4d_3.json', './BASIL/articles/2016\\\\d4a4bc34-e48b-4485-86b2-f1daf4d464dd_1.json', './BASIL/articles/2016\\\\d4a4bc34-e48b-4485-86b2-f1daf4d464dd_2.json', './BASIL/articles/2016\\\\d4a4bc34-e48b-4485-86b2-f1daf4d464dd_3.json', './BASIL/articles/2016\\\\eadabee7-3db9-43c4-a485-3e8b1882cd3c_1.json', './BASIL/articles/2016\\\\eadabee7-3db9-43c4-a485-3e8b1882cd3c_2.json', './BASIL/articles/2016\\\\eadabee7-3db9-43c4-a485-3e8b1882cd3c_3.json', './BASIL/articles/2017\\\\0c78e748-efbf-417c-a8c1-beeb6480147f_1.json', './BASIL/articles/2017\\\\0c78e748-efbf-417c-a8c1-beeb6480147f_2.json', './BASIL/articles/2017\\\\0c78e748-efbf-417c-a8c1-beeb6480147f_3.json', './BASIL/articles/2017\\\\47a209b0-fc26-4a0a-a1fe-e4310d1d2419_1.json', './BASIL/articles/2017\\\\47a209b0-fc26-4a0a-a1fe-e4310d1d2419_2.json', './BASIL/articles/2017\\\\47a209b0-fc26-4a0a-a1fe-e4310d1d2419_3.json', './BASIL/articles/2017\\\\542cd22c-ea80-4669-995b-6ac6a33823f7_1.json', './BASIL/articles/2017\\\\542cd22c-ea80-4669-995b-6ac6a33823f7_2.json', './BASIL/articles/2017\\\\542cd22c-ea80-4669-995b-6ac6a33823f7_3.json', './BASIL/articles/2017\\\\58f414e5-a122-49f5-819e-512d91069da5_1.json', './BASIL/articles/2017\\\\58f414e5-a122-49f5-819e-512d91069da5_2.json', './BASIL/articles/2017\\\\58f414e5-a122-49f5-819e-512d91069da5_3.json', './BASIL/articles/2017\\\\72fa9b13-4e59-4716-8df9-4c3580e7dddf_1.json', './BASIL/articles/2017\\\\72fa9b13-4e59-4716-8df9-4c3580e7dddf_2.json', './BASIL/articles/2017\\\\72fa9b13-4e59-4716-8df9-4c3580e7dddf_3.json', './BASIL/articles/2017\\\\84b3c118-50d2-45a5-a91f-7ed95b5d0143_1.json', './BASIL/articles/2017\\\\84b3c118-50d2-45a5-a91f-7ed95b5d0143_2.json', './BASIL/articles/2017\\\\84b3c118-50d2-45a5-a91f-7ed95b5d0143_3.json', './BASIL/articles/2017\\\\be026bd1-52b1-4789-bfd3-3632af17b054_1.json', './BASIL/articles/2017\\\\be026bd1-52b1-4789-bfd3-3632af17b054_2.json', './BASIL/articles/2017\\\\be026bd1-52b1-4789-bfd3-3632af17b054_3.json', './BASIL/articles/2017\\\\d16050b3-979f-4834-90db-b8823691b87e_1.json', './BASIL/articles/2017\\\\d16050b3-979f-4834-90db-b8823691b87e_2.json', './BASIL/articles/2017\\\\d16050b3-979f-4834-90db-b8823691b87e_3.json', './BASIL/articles/2017\\\\dd1e6e3b-f36c-4064-8ef9-940984e9afa2_1.json', './BASIL/articles/2017\\\\dd1e6e3b-f36c-4064-8ef9-940984e9afa2_2.json', './BASIL/articles/2017\\\\dd1e6e3b-f36c-4064-8ef9-940984e9afa2_3.json', './BASIL/articles/2017\\\\df6a55fb-dfe5-4362-89a6-8c040d648a70_1.json', './BASIL/articles/2017\\\\df6a55fb-dfe5-4362-89a6-8c040d648a70_2.json', './BASIL/articles/2017\\\\df6a55fb-dfe5-4362-89a6-8c040d648a70_3.json', './BASIL/articles/2018\\\\01c59743-7082-44fc-8414-3c04126f470f_1.json', './BASIL/articles/2018\\\\01c59743-7082-44fc-8414-3c04126f470f_2.json', './BASIL/articles/2018\\\\01c59743-7082-44fc-8414-3c04126f470f_3.json', './BASIL/articles/2018\\\\06ffda2d-1caf-45ba-99e2-268aac1bf0e1_1.json', './BASIL/articles/2018\\\\06ffda2d-1caf-45ba-99e2-268aac1bf0e1_2.json', './BASIL/articles/2018\\\\06ffda2d-1caf-45ba-99e2-268aac1bf0e1_3.json', './BASIL/articles/2018\\\\1ed4f378-b9d4-43b8-8d50-53d0cc063332_1.json', './BASIL/articles/2018\\\\1ed4f378-b9d4-43b8-8d50-53d0cc063332_2.json', './BASIL/articles/2018\\\\1ed4f378-b9d4-43b8-8d50-53d0cc063332_3.json', './BASIL/articles/2018\\\\1f99798f-2b60-4ecb-b5f4-4aa7991e8ace_1.json', './BASIL/articles/2018\\\\1f99798f-2b60-4ecb-b5f4-4aa7991e8ace_2.json', './BASIL/articles/2018\\\\1f99798f-2b60-4ecb-b5f4-4aa7991e8ace_3.json', './BASIL/articles/2018\\\\2a3fde8a-082a-4d8f-9567-f7e8366c0200_1.json', './BASIL/articles/2018\\\\2a3fde8a-082a-4d8f-9567-f7e8366c0200_2.json', './BASIL/articles/2018\\\\2a3fde8a-082a-4d8f-9567-f7e8366c0200_3.json', './BASIL/articles/2018\\\\87609973-bd58-42a5-96e2-ee5aa47433f5_1.json', './BASIL/articles/2018\\\\87609973-bd58-42a5-96e2-ee5aa47433f5_2.json', './BASIL/articles/2018\\\\87609973-bd58-42a5-96e2-ee5aa47433f5_3.json', './BASIL/articles/2018\\\\ad409798-ee94-4436-92c5-92669193be14_1.json', './BASIL/articles/2018\\\\ad409798-ee94-4436-92c5-92669193be14_2.json', './BASIL/articles/2018\\\\ad409798-ee94-4436-92c5-92669193be14_3.json', './BASIL/articles/2018\\\\c6a0e65c-4f8b-41de-8200-cd700f683c64_1.json', './BASIL/articles/2018\\\\c6a0e65c-4f8b-41de-8200-cd700f683c64_2.json', './BASIL/articles/2018\\\\c6a0e65c-4f8b-41de-8200-cd700f683c64_3.json', './BASIL/articles/2018\\\\eb17fa36-89f2-4d0b-8133-7bb4682228e1_1.json', './BASIL/articles/2018\\\\eb17fa36-89f2-4d0b-8133-7bb4682228e1_2.json', './BASIL/articles/2018\\\\eb17fa36-89f2-4d0b-8133-7bb4682228e1_3.json', './BASIL/articles/2018\\\\f688c56d-7fae-42ef-b7f7-7db207b58d27_1.json', './BASIL/articles/2018\\\\f688c56d-7fae-42ef-b7f7-7db207b58d27_2.json', './BASIL/articles/2018\\\\f688c56d-7fae-42ef-b7f7-7db207b58d27_3.json', './BASIL/articles/2019\\\\0d10341a-9dba-4374-a524-814c300d1611_1.json', './BASIL/articles/2019\\\\0d10341a-9dba-4374-a524-814c300d1611_2.json', './BASIL/articles/2019\\\\0d10341a-9dba-4374-a524-814c300d1611_3.json', './BASIL/articles/2019\\\\1e41e98b-9ac1-441d-b2c2-19d8f730c74a_1.json', './BASIL/articles/2019\\\\1e41e98b-9ac1-441d-b2c2-19d8f730c74a_2.json', './BASIL/articles/2019\\\\1e41e98b-9ac1-441d-b2c2-19d8f730c74a_3.json', './BASIL/articles/2019\\\\2f3e86b6-8443-47bd-9cd3-491c90a59fe9_1.json', './BASIL/articles/2019\\\\2f3e86b6-8443-47bd-9cd3-491c90a59fe9_2.json', './BASIL/articles/2019\\\\2f3e86b6-8443-47bd-9cd3-491c90a59fe9_3.json', './BASIL/articles/2019\\\\3ae35b16-7f7f-4a5e-9f24-5ce724106a73_1.json', './BASIL/articles/2019\\\\3ae35b16-7f7f-4a5e-9f24-5ce724106a73_2.json', './BASIL/articles/2019\\\\3ae35b16-7f7f-4a5e-9f24-5ce724106a73_3.json', './BASIL/articles/2019\\\\70c75d68-bf65-46a6-a822-15c23d77a275_1.json', './BASIL/articles/2019\\\\70c75d68-bf65-46a6-a822-15c23d77a275_2.json', './BASIL/articles/2019\\\\70c75d68-bf65-46a6-a822-15c23d77a275_3.json', './BASIL/articles/2019\\\\86e6e27d-1440-4879-8b13-0dd2d89f7281_1.json', './BASIL/articles/2019\\\\86e6e27d-1440-4879-8b13-0dd2d89f7281_2.json', './BASIL/articles/2019\\\\86e6e27d-1440-4879-8b13-0dd2d89f7281_3.json', './BASIL/articles/2019\\\\aab91277-8d56-4844-a581-45630f873f49_1.json', './BASIL/articles/2019\\\\aab91277-8d56-4844-a581-45630f873f49_2.json', './BASIL/articles/2019\\\\aab91277-8d56-4844-a581-45630f873f49_3.json', './BASIL/articles/2019\\\\b7021938-ff8d-42ea-adec-5704c0b65237_1.json', './BASIL/articles/2019\\\\b7021938-ff8d-42ea-adec-5704c0b65237_2.json', './BASIL/articles/2019\\\\b7021938-ff8d-42ea-adec-5704c0b65237_3.json', './BASIL/articles/2019\\\\c9e4d35f-aeae-462b-a8bf-e08d09a93b6e_1.json', './BASIL/articles/2019\\\\c9e4d35f-aeae-462b-a8bf-e08d09a93b6e_2.json', './BASIL/articles/2019\\\\c9e4d35f-aeae-462b-a8bf-e08d09a93b6e_3.json', './BASIL/articles/2019\\\\e71d149d-0426-43f0-87e8-8c611dad7205_1.json', './BASIL/articles/2019\\\\e71d149d-0426-43f0-87e8-8c611dad7205_2.json', './BASIL/articles/2019\\\\e71d149d-0426-43f0-87e8-8c611dad7205_3.json']\n"
     ]
    }
   ],
   "source": [
    "annotations_path = sorted(annotations_path)\n",
    "articles_path = sorted(articles_path)\n",
    "\n",
    "print(annotations_path)\n",
    "print(articles_path)\n",
    "annotations = []\n",
    "articles = []\n",
    "for path in sorted(annotations_path):\n",
    "  with open(path, 'r') as fp:\n",
    "    annotations.append(json.load(fp))\n",
    "\n",
    "for path in sorted(articles_path):\n",
    "  with open(path, 'r') as fp:\n",
    "    articles.append(json.load(fp))"
   ]
  },
  {
   "cell_type": "code",
   "execution_count": 7,
   "metadata": {},
   "outputs": [],
   "source": [
    "all_sentences = []\n",
    "all_labels = []\n",
    "\n",
    "for i in range(len(articles)):\n",
    "    paragraphs = articles[i][\"body-paragraphs\"]\n",
    "    sentences = [sent for para in paragraphs for sent in para]\n",
    "    annotats = annotations[i][\"phrase-level-annotations\"]\n",
    "    labels = [0 for _ in range(len(sentences))]\n",
    "    for annot in annotats:\n",
    "        if annot[\"id\"][0] == 'p':\n",
    "            id = int(annot[\"id\"][1:])\n",
    "            polarity = annot['polarity']\n",
    "            if polarity == 'neg':\n",
    "                labels[id] = 1\n",
    "            elif polarity == 'pos':\n",
    "                labels[id] = 2\n",
    "    all_sentences.append(sentences)\n",
    "    all_labels.append(labels)\n",
    "\n",
    "sentence_data = [sent for sublist in all_sentences for sent in sublist]\n",
    "label_data = [label for sublist in all_labels for label in sublist]"
   ]
  },
  {
   "cell_type": "code",
   "execution_count": 8,
   "metadata": {},
   "outputs": [],
   "source": [
    "indices = list(range(len(sentence_data)))\n",
    "random.shuffle(indices)\n",
    "\n",
    "train_split = int(len(indices) * 0.7)\n",
    "val_split = int(len(indices) * 0.15)\n",
    "\n",
    "train_idx = indices[:train_split]\n",
    "val_idx = indices[train_split : train_split+val_split]\n",
    "test_idx = indices[train_split+val_split : ]\n",
    "\n",
    "\n",
    "train_sentences = [sentence_data[i] for i in train_idx]\n",
    "train_labels = [label_data[i] for i in train_idx]\n",
    "val_sentences = [sentence_data[i] for i in val_idx]\n",
    "val_labels = [label_data[i] for i in val_idx]\n",
    "test_sentences = [sentence_data[i] for i in test_idx]\n",
    "test_labels = [label_data[i] for i in test_idx]"
   ]
  },
  {
   "cell_type": "code",
   "execution_count": 9,
   "metadata": {},
   "outputs": [],
   "source": [
    "class BasilDataset(Dataset):\n",
    "    def __init__(self, sentences, labels, indexer):\n",
    "\n",
    "        self.sentences = sentences\n",
    "        self.labels = labels\n",
    "        self.indexer = indexer\n",
    "        \n",
    "        self.indices = []\n",
    "        for sent in self.sentences:\n",
    "            sent_indices = []\n",
    "            word_sent = nltk.word_tokenize(sent)\n",
    "            for word in word_sent:\n",
    "                if self.indexer.index_of(word) != -1:\n",
    "                    sent_indices.append(self.indexer.index_of(word))\n",
    "                else:\n",
    "                    sent_indices.append(self.indexer.index_of(\"UNK\"))\n",
    "            if len(sent_indices) < 128:\n",
    "                for i in range(len(sent_indices), 128):\n",
    "                    sent_indices.append(self.indexer.index_of(\"PAD\"))\n",
    "            else:\n",
    "                sent_indices = sent_indices[:128]\n",
    "            self.indices.append(sent_indices)\n",
    "\n",
    "        self.indices = torch.tensor(self.indices, dtype=torch.long)\n",
    "        self.labels = torch.tensor(self.labels, dtype=torch.long)       \n",
    "\n",
    "    def __len__(self):\n",
    "        return len(self.sentences)\n",
    "\n",
    "    def __getitem__(self, idx):\n",
    "        return self.indices[idx], self.labels[idx]"
   ]
  },
  {
   "cell_type": "code",
   "execution_count": 13,
   "metadata": {},
   "outputs": [],
   "source": [
    "train_basil_dataset = BasilDataset(train_sentences, train_labels, word_indexer)\n",
    "val_basil_dataset = BasilDataset(val_sentences, val_labels, word_indexer)\n",
    "test_basil_dataset = BasilDataset(test_sentences, test_labels, word_indexer)\n",
    "\n",
    "train_basil_loader = DataLoader(train_basil_dataset, batch_size=16, collate_fn=collate_batch, shuffle=True)\n",
    "val_basil_loader = DataLoader(val_basil_dataset, batch_size=16, collate_fn=collate_batch, shuffle=False)\n",
    "test_basil_loader = DataLoader(test_basil_dataset, batch_size=16, collate_fn=collate_batch,shuffle=False)"
   ]
  },
  {
   "cell_type": "code",
   "execution_count": 14,
   "metadata": {},
   "outputs": [
    {
     "data": {
      "text/plain": [
       "CrossEntropyLoss()"
      ]
     },
     "execution_count": 14,
     "metadata": {},
     "output_type": "execute_result"
    }
   ],
   "source": [
    "encoder_basil = EncoderModel(vocab_size, 128, block_size, n_head, n_layer, n_hidden, n_output, device)\n",
    "loss_fn = nn.CrossEntropyLoss()\n",
    "optimizer = torch.optim.Adam(encoder_basil.parameters(), lr=learning_rate)\n",
    "\n",
    "encoder_basil.to(device)\n",
    "loss_fn.to(device)"
   ]
  },
  {
   "cell_type": "code",
   "execution_count": null,
   "metadata": {},
   "outputs": [],
   "source": [
    "for epoch in range(epochs_CLS):\n",
    "    size = len(train_basil_loader.dataset)\n",
    "    num_batches = len(train_basil_loader)\n",
    "    train_loss, correct = 0, 0\n",
    "\n",
    "    encoder_basil.train()\n",
    "    for xb, yb in train_basil_loader:\n",
    "        xb, yb = xb.to(device), yb.to(device)\n",
    "\n",
    "        pred = encoder_basil(xb)\n",
    "        # print(pred.argmax(dim=1), yb)\n",
    "        loss = loss_fn(pred, yb)\n",
    "        train_loss += loss.item()\n",
    "        correct += (pred.argmax(dim=1) == yb).type(torch.float).sum().item()\n",
    "\n",
    "        optimizer.zero_grad()\n",
    "        loss.backward()\n",
    "        optimizer.step()\n",
    "\n",
    "    average_train_loss = train_loss / num_batches\n",
    "    accuracy = correct / size\n",
    "\n",
    "    with torch.no_grad():\n",
    "        size = len(val_basil_loader.dataset)\n",
    "        num_batches = len(val_basil_loader)\n",
    "        encoder_basil.eval()\n",
    "        eval_loss, test_correct = 0, 0\n",
    "        for xt, yt in val_basil_loader:\n",
    "            xt, yt = xt.to(device), yt.to(device)\n",
    "            pred = encoder_basil(xt)\n",
    "            loss = loss_fn(pred, yt)\n",
    "            eval_loss += loss.item()\n",
    "            test_correct += (pred.argmax(dim=1) == yt).type(torch.float).sum().item()\n",
    "        \n",
    "        average_eval_loss = eval_loss / num_batches\n",
    "        test_accuracy = test_correct / size\n",
    "\n",
    "    if epoch == 0 or (epoch + 1) % 10 == 0: \n",
    "        print(f'Epoch #{epoch + 1}: train loss {average_train_loss:.3f}, train accuracy {accuracy:.3f}, val loss {average_eval_loss:.3f}, val accuracy {test_accuracy:.3f}')"
   ]
  },
  {
   "cell_type": "code",
   "execution_count": null,
   "metadata": {},
   "outputs": [],
   "source": [
    "with torch.no_grad():\n",
    "    size = len(test_basil_loader.dataset)\n",
    "    num_batches = len(test_basil_loader)\n",
    "    encoder_basil.eval()\n",
    "    eval_loss, test_correct = 0, 0\n",
    "    for xt, yt in test_basil_loader:\n",
    "        xt, yt = xt.to(device), yt.to(device)\n",
    "        pred = encoder_basil(xt)\n",
    "        loss = loss_fn(pred, yt)\n",
    "        eval_loss += loss.item()\n",
    "        test_correct += (pred.argmax(dim=1) == yt).type(torch.float).sum().item()\n",
    "    \n",
    "    test_accuracy = test_correct / size\n",
    "    print(f'test accuracy {test_accuracy:.3f}')"
   ]
  }
 ],
 "metadata": {
  "kernelspec": {
   "display_name": "eecs487_project",
   "language": "python",
   "name": "python3"
  },
  "language_info": {
   "codemirror_mode": {
    "name": "ipython",
    "version": 3
   },
   "file_extension": ".py",
   "mimetype": "text/x-python",
   "name": "python",
   "nbconvert_exporter": "python",
   "pygments_lexer": "ipython3",
   "version": "3.9.16"
  }
 },
 "nbformat": 4,
 "nbformat_minor": 2
}
